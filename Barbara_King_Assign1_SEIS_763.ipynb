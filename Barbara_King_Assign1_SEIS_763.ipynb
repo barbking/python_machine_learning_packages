{
 "cells": [
  {
   "cell_type": "markdown",
   "metadata": {},
   "source": [
    "### Pandas"
   ]
  },
  {
   "cell_type": "markdown",
   "metadata": {},
   "source": [
    "Pandas is a python library that builds on packages like NumPy and Matplotlib to give you a single, convient place for data analysis and visualization.\n",
    "\n",
    "From tutorialspoint.com:\n",
    "Key Features of Pandas\n",
    "- Fast and efficient DataFrame object with default and customized indexing.\n",
    "- Tools for loading data into in-memory data objects from different file formats.\n",
    "- Data alignment and integrated handling of missing data.\n",
    "- Reshaping and pivoting of date sets.\n",
    "- Label-based slicing, indexing and subsetting of large data sets.\n",
    "- Columns from a data structure can be deleted or inserted.\n",
    "- Group by data for aggregation and transformations.\n",
    "- High performance merging and joining of data.\n",
    "- Time Series functionality.\n",
    "\n",
    "Resources:<br>\n",
    "https://pandas.pydata.org<br>\n",
    "https://www.tutorialspoint.com/python_pandas/python_pandas_introduction.htm<br>\n",
    "https://www.kaggle.com/learn/pandas<br>\n",
    "\n",
    "Install:<br>\n",
    "If you install Anacondra, Panadas is installed by default.  Otherwise see panadas documentation for install instructions."
   ]
  },
  {
   "cell_type": "markdown",
   "metadata": {},
   "source": [
    "Three data structures in Pandas:\n",
    "series\n",
    "- one dimensional\n",
    "- size immutable\n",
    "dataframe\n",
    "- two dimensional\n",
    "- size mutable\n",
    "- rows (called indexes)\n",
    "- columns\n",
    "pannel\n",
    "- three dimensional\n",
    "- size mutable"
   ]
  }
 ],
 "metadata": {
  "kernelspec": {
   "display_name": "Python 3",
   "language": "python",
   "name": "python3"
  },
  "language_info": {
   "codemirror_mode": {
    "name": "ipython",
    "version": 3
   },
   "file_extension": ".py",
   "mimetype": "text/x-python",
   "name": "python",
   "nbconvert_exporter": "python",
   "pygments_lexer": "ipython3",
   "version": "3.7.1"
  }
 },
 "nbformat": 4,
 "nbformat_minor": 2
}
